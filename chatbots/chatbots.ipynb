{
 "cells": [
  {
   "cell_type": "markdown",
   "metadata": {},
   "source": [
    "Build a simple chatbot"
   ]
  },
  {
   "cell_type": "code",
   "execution_count": 1,
   "metadata": {},
   "outputs": [],
   "source": [
    "import os\n",
    "from dotenv import load_dotenv\n",
    "load_dotenv()\n",
    "\n",
    "groq_api_key=os.getenv(\"GROQ_API_KEY\")\n"
   ]
  },
  {
   "cell_type": "code",
   "execution_count": 2,
   "metadata": {},
   "outputs": [],
   "source": [
    "from langchain_groq import ChatGroq\n",
    "from langchain_openai import ChatOpenAI\n",
    "model=ChatGroq(model=\"Gemma2-9b-It\",groq_api_key=groq_api_key)"
   ]
  },
  {
   "cell_type": "code",
   "execution_count": 3,
   "metadata": {},
   "outputs": [
    {
     "data": {
      "text/plain": [
       "AIMessage(content=\"Hello Umais! It's nice to meet you.  \\n\\nBeing an AI Engineer is a fascinating field. What kind of projects are you working on?  \\n\\nAre you interested in any particular areas of AI, like natural language processing, computer vision, or robotics?  \\n\\nI'm always eager to learn more about what people are doing in the world of AI. 😊\\n\", additional_kwargs={}, response_metadata={'token_usage': {'completion_tokens': 80, 'prompt_tokens': 18, 'total_tokens': 98, 'completion_time': 0.145454545, 'prompt_time': 8.2409e-05, 'queue_time': 0.014277359, 'total_time': 0.145536954}, 'model_name': 'Gemma2-9b-It', 'system_fingerprint': 'fp_10c08bf97d', 'finish_reason': 'stop', 'logprobs': None}, id='run-72fa9c1f-adf6-4a90-ac2f-3ec326b275fc-0', usage_metadata={'input_tokens': 18, 'output_tokens': 80, 'total_tokens': 98})"
      ]
     },
     "execution_count": 3,
     "metadata": {},
     "output_type": "execute_result"
    }
   ],
   "source": [
    "from langchain_core.messages import HumanMessage\n",
    "model.invoke([HumanMessage(content=\"I am Umais and I am AI Engineer\")])"
   ]
  },
  {
   "cell_type": "code",
   "execution_count": 4,
   "metadata": {},
   "outputs": [
    {
     "data": {
      "text/plain": [
       "AIMessage(content='Your name is Umais. You told me at the beginning of our conversation!  😊 \\n\\nIs there anything else I can help you with?\\n', additional_kwargs={}, response_metadata={'token_usage': {'completion_tokens': 33, 'prompt_tokens': 108, 'total_tokens': 141, 'completion_time': 0.06, 'prompt_time': 0.003348639, 'queue_time': 0.010971469999999999, 'total_time': 0.063348639}, 'model_name': 'Gemma2-9b-It', 'system_fingerprint': 'fp_10c08bf97d', 'finish_reason': 'stop', 'logprobs': None}, id='run-756e9fc4-600d-4a97-93a8-0a79fbf21046-0', usage_metadata={'input_tokens': 108, 'output_tokens': 33, 'total_tokens': 141})"
      ]
     },
     "execution_count": 4,
     "metadata": {},
     "output_type": "execute_result"
    }
   ],
   "source": [
    "from langchain_core.messages import AIMessage\n",
    "model.invoke(\n",
    "    [\n",
    "    HumanMessage(content=\"I am Umais and I am AI Engineer\"),\n",
    "              AIMessage(content=\"Hello Umais! It's nice to meet you.\\n\\nBeing an AI Engineer is a fascinating field. What kind of projects are you working on?  \\n\\nAre you interested in any particular areas of AI, like natural language processing, computer vision, or robotics?  \\n\\nIm always eager to learn more about what people are doing in the world of AI. 😊\\n\")\n",
    "\n",
    ",HumanMessage(content=\"Hey what is my name\")\n",
    "    ]\n",
    ")"
   ]
  },
  {
   "cell_type": "code",
   "execution_count": null,
   "metadata": {},
   "outputs": [],
   "source": [
    "### Message History\n",
    "#To keep track of message history"
   ]
  },
  {
   "cell_type": "code",
   "execution_count": null,
   "metadata": {},
   "outputs": [],
   "source": []
  }
 ],
 "metadata": {
  "kernelspec": {
   "display_name": "myenv",
   "language": "python",
   "name": "python3"
  },
  "language_info": {
   "codemirror_mode": {
    "name": "ipython",
    "version": 3
   },
   "file_extension": ".py",
   "mimetype": "text/x-python",
   "name": "python",
   "nbconvert_exporter": "python",
   "pygments_lexer": "ipython3",
   "version": "3.11.9"
  }
 },
 "nbformat": 4,
 "nbformat_minor": 2
}
